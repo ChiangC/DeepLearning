{
 "cells": [
  {
   "cell_type": "markdown",
   "metadata": {},
   "source": [
    "# Character-Level LSTM in PyTorch\n",
    "\n",
    "In this notebook, I'll construct a character-level LSTM with PyTorch. The network will train character by character on some text, then generate new text character by character. As an example, I will train on Anna Karenina. **This model will be able to generate new text based on the text from the book!**\n",
    "\n",
    "This network is based off of Andrej Karpathy's [post on RNNs](http://karpathy.github.io/2015/05/21/rnn-effectiveness/) and [implementation in Torch](https://github.com/karpathy/char-rnn). Below is the general architecture of the character-wise RNN.\n",
    "\n",
    "<img src=\"assets/charseq.jpeg\" width=\"500\">"
   ]
  },
  {
   "cell_type": "markdown",
   "metadata": {},
   "source": [
    "First let's load in our required resources for data loading and model creation."
   ]
  },
  {
   "cell_type": "code",
   "execution_count": 1,
   "metadata": {},
   "outputs": [],
   "source": [
    "import numpy as np\n",
    "import torch\n",
    "from torch import nn\n",
    "import torch.nn.functional as F"
   ]
  },
  {
   "cell_type": "markdown",
   "metadata": {},
   "source": [
    "## Load in Data\n",
    "\n",
    "Then, we'll load the Anna Karenina text file and convert it into integers for our network to use. "
   ]
  },
  {
   "cell_type": "code",
   "execution_count": 2,
   "metadata": {},
   "outputs": [],
   "source": [
    "# open text file and read in data as `text`\n",
    "with open('data/anna.txt', 'r') as f:\n",
    "    text = f.read()"
   ]
  },
  {
   "cell_type": "markdown",
   "metadata": {},
   "source": [
    "Let's check out the first 100 characters, make sure everything is peachy. According to the [American Book Review](http://americanbookreview.org/100bestlines.asp), this is the 6th best first line of a book ever."
   ]
  },
  {
   "cell_type": "code",
   "execution_count": 3,
   "metadata": {},
   "outputs": [
    {
     "data": {
      "text/plain": [
       "'Chapter 1\\n\\n\\nHappy families are all alike; every unhappy family is unhappy in its own\\nway.\\n\\nEverythin'"
      ]
     },
     "execution_count": 3,
     "metadata": {},
     "output_type": "execute_result"
    }
   ],
   "source": [
    "text[:100]"
   ]
  },
  {
   "cell_type": "markdown",
   "metadata": {},
   "source": [
    "### Tokenization\n",
    "\n",
    "In the cells, below, I'm creating a couple **dictionaries** to convert the characters to and from integers. Encoding the characters as integers makes it easier to use as input in the network."
   ]
  },
  {
   "cell_type": "code",
   "execution_count": 4,
   "metadata": {},
   "outputs": [],
   "source": [
    "# encode the text and map each character to an integer and vice versa\n",
    "\n",
    "# we create two dictionaries:\n",
    "# 1. int2char, which maps integers to characters\n",
    "# 2. char2int, which maps characters to unique integers\n",
    "chars = tuple(set(text))\n",
    "int2char = dict(enumerate(chars))\n",
    "char2int = {ch: ii for ii, ch in int2char.items()}\n",
    "\n",
    "# encode the text\n",
    "encoded = np.array([char2int[ch] for ch in text])"
   ]
  },
  {
   "cell_type": "code",
   "execution_count": 11,
   "metadata": {},
   "outputs": [
    {
     "name": "stdout",
     "output_type": "stream",
     "text": [
      "{'f': 0, ':': 1, '%': 2, 'i': 3, 'p': 4, 'J': 5, 'D': 6, '5': 7, 'B': 8, 'C': 9, 'I': 10, 'U': 11, 'G': 12, 'V': 13, '_': 14, ',': 15, 'K': 16, 'P': 17, '!': 18, 'A': 19, 'L': 20, 'l': 21, 'M': 22, '(': 23, 'Z': 24, 'Y': 25, 'N': 26, 'S': 27, '1': 28, 'r': 29, 'n': 30, '0': 31, 'E': 32, 'u': 33, 'v': 34, 'j': 35, 'O': 36, '\"': 37, 'x': 38, 'z': 39, 't': 40, '/': 41, 'm': 42, 'y': 43, 'b': 44, 'w': 45, 'c': 46, '@': 47, 'd': 48, \"'\": 49, 'g': 50, 'R': 51, '`': 52, 'o': 53, 'W': 54, ';': 55, 'q': 56, '*': 57, '$': 58, 'T': 59, '2': 60, '8': 61, ')': 62, 'k': 63, 'F': 64, ' ': 65, '?': 66, 'H': 67, 'a': 68, '.': 69, '&': 70, 'Q': 71, 'h': 72, '-': 73, 'e': 74, '6': 75, '9': 76, '7': 77, '\\n': 78, 'X': 79, 's': 80, '4': 81, '3': 82}\n"
     ]
    }
   ],
   "source": [
    "# print(int2char)\n",
    "# print(int2char.items())\n",
    "print(char2int)"
   ]
  },
  {
   "cell_type": "markdown",
   "metadata": {},
   "source": [
    "And we can see those same characters from above, encoded as integers."
   ]
  },
  {
   "cell_type": "code",
   "execution_count": 5,
   "metadata": {},
   "outputs": [
    {
     "data": {
      "text/plain": [
       "array([ 9, 72, 68,  4, 40, 74, 29, 65, 28, 78, 78, 78, 67, 68,  4,  4, 43,\n",
       "       65,  0, 68, 42,  3, 21,  3, 74, 80, 65, 68, 29, 74, 65, 68, 21, 21,\n",
       "       65, 68, 21,  3, 63, 74, 55, 65, 74, 34, 74, 29, 43, 65, 33, 30, 72,\n",
       "       68,  4,  4, 43, 65,  0, 68, 42,  3, 21, 43, 65,  3, 80, 65, 33, 30,\n",
       "       72, 68,  4,  4, 43, 65,  3, 30, 65,  3, 40, 80, 65, 53, 45, 30, 78,\n",
       "       45, 68, 43, 69, 78, 78, 32, 34, 74, 29, 43, 40, 72,  3, 30])"
      ]
     },
     "execution_count": 5,
     "metadata": {},
     "output_type": "execute_result"
    }
   ],
   "source": [
    "encoded[:100]"
   ]
  },
  {
   "cell_type": "markdown",
   "metadata": {},
   "source": [
    "## Pre-processing the data\n",
    "\n",
    "As you can see in our char-RNN image above, our LSTM expects an input that is **one-hot encoded** meaning that each character is converted into an integer (via our created dictionary) and *then* converted into a column vector where only it's corresponding integer index will have the value of 1 and the rest of the vector will be filled with 0's. Since we're one-hot encoding the data, let's make a function to do that!\n"
   ]
  },
  {
   "cell_type": "code",
   "execution_count": 6,
   "metadata": {},
   "outputs": [],
   "source": [
    "def one_hot_encode(arr, n_labels):\n",
    "    \n",
    "    # Initialize the the encoded array\n",
    "    one_hot = np.zeros((arr.size, n_labels), dtype=np.float32)\n",
    "    \n",
    "    # Fill the appropriate elements with ones\n",
    "    one_hot[np.arange(one_hot.shape[0]), arr.flatten()] = 1.\n",
    "    \n",
    "    # Finally reshape it to get back to the original array\n",
    "    one_hot = one_hot.reshape((*arr.shape, n_labels))\n",
    "    \n",
    "    return one_hot"
   ]
  },
  {
   "cell_type": "code",
   "execution_count": 7,
   "metadata": {},
   "outputs": [
    {
     "name": "stdout",
     "output_type": "stream",
     "text": [
      "[[[0. 0. 0. 1. 0. 0. 0. 0.]\n",
      "  [0. 0. 0. 0. 0. 1. 0. 0.]\n",
      "  [0. 1. 0. 0. 0. 0. 0. 0.]]]\n"
     ]
    }
   ],
   "source": [
    "# check that the function works as expected\n",
    "test_seq = np.array([[3, 5, 1]])\n",
    "one_hot = one_hot_encode(test_seq, 8)\n",
    "\n",
    "print(one_hot)"
   ]
  },
  {
   "cell_type": "markdown",
   "metadata": {},
   "source": [
    "## Making training mini-batches\n",
    "\n",
    "\n",
    "To train on this data, we also want to create mini-batches for training. Remember that we want our batches to be multiple sequences of some desired number of sequence steps. Considering a simple example, our batches would look like this:\n",
    "\n",
    "<img src=\"assets/sequence_batching@1x.png\" width=500px>\n",
    "\n",
    "\n",
    "<br>\n",
    "\n",
    "In this example, we'll take the encoded characters (passed in as the `arr` parameter) and split them into multiple sequences, given by `batch_size`. Each of our sequences will be `seq_length` long.\n",
    "\n",
    "### Creating Batches\n",
    "\n",
    "**1. The first thing we need to do is discard some of the text so we only have completely full mini-batches. **\n",
    "\n",
    "Each batch contains $N \\times M$ characters, where $N$ is the batch size (the number of sequences in a batch) and $M$ is the seq_length or number of time steps in a sequence. Then, to get the total number of batches, $K$, that we can make from the array `arr`, you divide the length of `arr` by the number of characters per batch. Once you know the number of batches, you can get the total number of characters to keep from `arr`, $N * M * K$.\n",
    "\n",
    "**2. After that, we need to split `arr` into $N$ batches. ** \n",
    "\n",
    "You can do this using `arr.reshape(size)` where `size` is a tuple containing the dimensions sizes of the reshaped array. We know we want $N$ sequences in a batch, so let's make that the size of the first dimension. For the second dimension, you can use `-1` as a placeholder in the size, it'll fill up the array with the appropriate data for you. After this, you should have an array that is $N \\times (M * K)$.\n",
    "\n",
    "**3. Now that we have this array, we can iterate through it to get our mini-batches. **\n",
    "\n",
    "The idea is each batch is a $N \\times M$ window on the $N \\times (M * K)$ array. For each subsequent batch, the window moves over by `seq_length`. We also want to create both the input and target arrays. Remember that the targets are just the inputs shifted over by one character. The way I like to do this window is use `range` to take steps of size `n_steps` from $0$ to `arr.shape[1]`, the total number of tokens in each sequence. That way, the integers you get from `range` always point to the start of a batch, and each window is `seq_length` wide.\n",
    "\n",
    "> **TODO:** Write the code for creating batches in the function below. The exercises in this notebook _will not be easy_. I've provided a notebook with solutions alongside this notebook. If you get stuck, checkout the solutions. The most important thing is that you don't copy and paste the code into here, **type out the solution code yourself.**"
   ]
  },
  {
   "cell_type": "code",
   "execution_count": 12,
   "metadata": {},
   "outputs": [],
   "source": [
    "def get_batches(arr, batch_size, seq_length):\n",
    "    '''Create a generator that returns batches of size\n",
    "       batch_size x seq_length from arr.\n",
    "       \n",
    "       Arguments\n",
    "       ---------\n",
    "       arr: Array you want to make batches from\n",
    "       batch_size: Batch size, the number of sequences per batch\n",
    "       seq_length: Number of encoded chars in a sequence\n",
    "    '''\n",
    "    \n",
    "    batch_size_total = (batch_size * seq_length)\n",
    "    ## TODO: Get the number of batches we can make\n",
    "    n_batches = len(arr)//batch_size_total\n",
    "    \n",
    "    ## TODO: Keep only enough characters to make full batches\n",
    "    arr = arr[:n_batches*batch_size_total]\n",
    "    \n",
    "    ## TODO: Reshape into batch_size rows\n",
    "    arr = arr.reshape(batch_size, -1)\n",
    "    \n",
    "    ## TODO: Iterate over the batches using a window of size seq_length\n",
    "    for n in range(0, arr.shape[1], seq_length):\n",
    "        # The features\n",
    "        x = arr[:, n:n+seq_length]\n",
    "        # The targets, shifted by one\n",
    "        y = np.zeros_like(x)\n",
    "        try:\n",
    "            y[:, :-1], y[:, -1] = x[:, 1:], arr[:, n+seq_length]\n",
    "        except IndexError:\n",
    "            y[:, :-1], y[:, -1] = x[:, 1:], arr[:,0]\n",
    "        yield x, y\n"
   ]
  },
  {
   "cell_type": "markdown",
   "metadata": {},
   "source": [
    "### Test Your Implementation\n",
    "\n",
    "Now I'll make some data sets and we can check out what's going on as we batch data. Here, as an example, I'm going to use a batch size of 8 and 50 sequence steps."
   ]
  },
  {
   "cell_type": "code",
   "execution_count": 13,
   "metadata": {},
   "outputs": [],
   "source": [
    "batches = get_batches(encoded, 8, 50)\n",
    "x, y = next(batches)"
   ]
  },
  {
   "cell_type": "code",
   "execution_count": 14,
   "metadata": {},
   "outputs": [
    {
     "name": "stdout",
     "output_type": "stream",
     "text": [
      "x\n",
      " [[ 9 72 68  4 40 74 29 65 28 78]\n",
      " [80 53 30 65 40 72 68 40 65 68]\n",
      " [74 30 48 65 53 29 65 68 65  0]\n",
      " [80 65 40 72 74 65 46 72  3 74]\n",
      " [65 80 68 45 65 72 74 29 65 40]\n",
      " [46 33 80 80  3 53 30 65 68 30]\n",
      " [65 19 30 30 68 65 72 68 48 65]\n",
      " [36 44 21 53 30 80 63 43 69 65]]\n",
      "\n",
      "y\n",
      " [[72 68  4 40 74 29 65 28 78 78]\n",
      " [53 30 65 40 72 68 40 65 68 40]\n",
      " [30 48 65 53 29 65 68 65  0 53]\n",
      " [65 40 72 74 65 46 72  3 74  0]\n",
      " [80 68 45 65 72 74 29 65 40 74]\n",
      " [33 80 80  3 53 30 65 68 30 48]\n",
      " [19 30 30 68 65 72 68 48 65 80]\n",
      " [44 21 53 30 80 63 43 69 65 37]]\n"
     ]
    }
   ],
   "source": [
    "# printing out the first 10 items in a sequence\n",
    "print('x\\n', x[:10, :10])\n",
    "print('\\ny\\n', y[:10, :10])"
   ]
  },
  {
   "cell_type": "markdown",
   "metadata": {},
   "source": [
    "If you implemented `get_batches` correctly, the above output should look something like \n",
    "```\n",
    "x\n",
    " [[25  8 60 11 45 27 28 73  1  2]\n",
    " [17  7 20 73 45  8 60 45 73 60]\n",
    " [27 20 80 73  7 28 73 60 73 65]\n",
    " [17 73 45  8 27 73 66  8 46 27]\n",
    " [73 17 60 12 73  8 27 28 73 45]\n",
    " [66 64 17 17 46  7 20 73 60 20]\n",
    " [73 76 20 20 60 73  8 60 80 73]\n",
    " [47 35 43  7 20 17 24 50 37 73]]\n",
    "\n",
    "y\n",
    " [[ 8 60 11 45 27 28 73  1  2  2]\n",
    " [ 7 20 73 45  8 60 45 73 60 45]\n",
    " [20 80 73  7 28 73 60 73 65  7]\n",
    " [73 45  8 27 73 66  8 46 27 65]\n",
    " [17 60 12 73  8 27 28 73 45 27]\n",
    " [64 17 17 46  7 20 73 60 20 80]\n",
    " [76 20 20 60 73  8 60 80 73 17]\n",
    " [35 43  7 20 17 24 50 37 73 36]]\n",
    " ```\n",
    " although the exact numbers may be different. Check to make sure the data is shifted over one step for `y`."
   ]
  },
  {
   "cell_type": "markdown",
   "metadata": {},
   "source": [
    "---\n",
    "## Defining the network with PyTorch\n",
    "\n",
    "Below is where you'll define the network.\n",
    "\n",
    "<img src=\"assets/charRNN.png\" width=500px>\n",
    "\n",
    "Next, you'll use PyTorch to define the architecture of the network. We start by defining the layers and operations we want. Then, define a method for the forward pass. You've also been given a method for predicting characters."
   ]
  },
  {
   "cell_type": "markdown",
   "metadata": {},
   "source": [
    "### Model Structure\n",
    "\n",
    "In `__init__` the suggested structure is as follows:\n",
    "* Create and store the necessary dictionaries (this has been done for you)\n",
    "* Define an LSTM layer that takes as params: an input size (the number of characters), a hidden layer size `n_hidden`, a number of layers `n_layers`, a dropout probability `drop_prob`, and a batch_first boolean (True, since we are batching)\n",
    "* Define a dropout layer with `drop_prob`\n",
    "* Define a fully-connected layer with params: input size `n_hidden` and output size (the number of characters)\n",
    "* Finally, initialize the weights (again, this has been given)\n",
    "\n",
    "Note that some parameters have been named and given in the `__init__` function, and we use them and store them by doing something like `self.drop_prob = drop_prob`."
   ]
  },
  {
   "cell_type": "markdown",
   "metadata": {},
   "source": [
    "---\n",
    "### LSTM Inputs/Outputs\n",
    "\n",
    "You can create a basic [LSTM layer](https://pytorch.org/docs/stable/nn.html#lstm) as follows\n",
    "\n",
    "```python\n",
    "self.lstm = nn.LSTM(input_size, n_hidden, n_layers, \n",
    "                            dropout=drop_prob, batch_first=True)\n",
    "```\n",
    "\n",
    "where `input_size` is the number of characters this cell expects to see as sequential input, and `n_hidden` is the number of units in the hidden layers in the cell. And we can add dropout by adding a dropout parameter with a specified probability; this will automatically add dropout to the inputs or outputs. Finally, in the `forward` function, we can stack up the LSTM cells into layers using `.view`. With this, you pass in a list of cells and it will send the output of one cell into the next cell.\n",
    "\n",
    "We also need to create an initial hidden state of all zeros. This is done like so\n",
    "\n",
    "```python\n",
    "self.init_hidden()\n",
    "```"
   ]
  },
  {
   "cell_type": "code",
   "execution_count": 15,
   "metadata": {},
   "outputs": [
    {
     "name": "stdout",
     "output_type": "stream",
     "text": [
      "Training on GPU!\n"
     ]
    }
   ],
   "source": [
    "# check if GPU is available\n",
    "train_on_gpu = torch.cuda.is_available()\n",
    "if(train_on_gpu):\n",
    "    print('Training on GPU!')\n",
    "else: \n",
    "    print('No GPU available, training on CPU; consider making n_epochs very small.')"
   ]
  },
  {
   "cell_type": "code",
   "execution_count": 21,
   "metadata": {},
   "outputs": [],
   "source": [
    "class CharRNN(nn.Module):\n",
    "    \n",
    "    def __init__(self, tokens, n_hidden=256, n_layers=2,\n",
    "                               drop_prob=0.5, lr=0.001):\n",
    "        super().__init__()\n",
    "        self.drop_prob = drop_prob\n",
    "        self.n_layers = n_layers\n",
    "        self.n_hidden = n_hidden\n",
    "        self.lr = lr\n",
    "        \n",
    "        # creating character dictionaries\n",
    "        self.chars = tokens\n",
    "        self.int2char = dict(enumerate(self.chars))\n",
    "        self.char2int = {ch: ii for ii, ch in self.int2char.items()}\n",
    "        \n",
    "        ## TODO: define the layers of the model\n",
    "        self.lstm = nn.LSTM(len(self.chars), n_hidden, n_layers,\n",
    "                            dropout=drop_prob, batch_first=True)\n",
    "        \n",
    "        self.dropout = nn.Dropout(drop_prob)\n",
    "        \n",
    "        self.fc = nn.Linear(n_hidden, len(self.chars))\n",
    "    \n",
    "    def forward(self, x, hidden):\n",
    "        ''' Forward pass through the network. \n",
    "            These inputs are x, and the hidden/cell state `hidden`. '''\n",
    "                \n",
    "        ## TODO: Get the outputs and the new hidden state from the lstm\n",
    "        rnn_out, hidden = self.lstm(x, hidden)\n",
    "        \n",
    "        out = self.dropout(rnn_out)\n",
    "        \n",
    "        out = out.contiguous().view(-1, self.n_hidden)\n",
    "       \n",
    "        out = self.fc(out)\n",
    "        \n",
    "        # return the final output and the hidden state\n",
    "        return out, hidden\n",
    "    \n",
    "    \n",
    "    def init_hidden(self, batch_size):\n",
    "        ''' Initializes hidden state '''\n",
    "        # Create two new tensors with sizes n_layers x batch_size x n_hidden,\n",
    "        # initialized to zero, for hidden state and cell state of LSTM\n",
    "        weight = next(self.parameters()).data\n",
    "        \n",
    "        if (train_on_gpu):\n",
    "            hidden = (weight.new(self.n_layers, batch_size, self.n_hidden).zero_().cuda(),\n",
    "                  weight.new(self.n_layers, batch_size, self.n_hidden).zero_().cuda())\n",
    "        else:\n",
    "            hidden = (weight.new(self.n_layers, batch_size, self.n_hidden).zero_(),\n",
    "                      weight.new(self.n_layers, batch_size, self.n_hidden).zero_())\n",
    "        \n",
    "        return hidden\n",
    "        "
   ]
  },
  {
   "cell_type": "markdown",
   "metadata": {},
   "source": [
    "## Time to train\n",
    "\n",
    "The train function gives us the ability to set the number of epochs, the learning rate, and other parameters.\n",
    "\n",
    "Below we're using an Adam optimizer and cross entropy loss since we are looking at character class scores as output. We calculate the loss and perform backpropagation, as usual!\n",
    "\n",
    "A couple of details about training: \n",
    ">* Within the batch loop, we detach the hidden state from its history; this time setting it equal to a new *tuple* variable because an LSTM has a hidden state that is a tuple of the hidden and cell states.\n",
    "* We use [`clip_grad_norm_`](https://pytorch.org/docs/stable/_modules/torch/nn/utils/clip_grad.html) to help prevent exploding gradients."
   ]
  },
  {
   "cell_type": "code",
   "execution_count": 17,
   "metadata": {},
   "outputs": [],
   "source": [
    "def train(net, data, epochs=10, batch_size=10, seq_length=50, lr=0.001, clip=5, val_frac=0.1, print_every=10):\n",
    "    ''' Training a network \n",
    "    \n",
    "        Arguments\n",
    "        ---------\n",
    "        \n",
    "        net: CharRNN network\n",
    "        data: text data to train the network\n",
    "        epochs: Number of epochs to train\n",
    "        batch_size: Number of mini-sequences per mini-batch, aka batch size\n",
    "        seq_length: Number of character steps per mini-batch\n",
    "        lr: learning rate\n",
    "        clip: gradient clipping\n",
    "        val_frac: Fraction of data to hold out for validation\n",
    "        print_every: Number of steps for printing training and validation loss\n",
    "    \n",
    "    '''\n",
    "    net.train()\n",
    "    \n",
    "    opt = torch.optim.Adam(net.parameters(), lr=lr)\n",
    "    criterion = nn.CrossEntropyLoss()\n",
    "    \n",
    "    # create training and validation data\n",
    "    val_idx = int(len(data)*(1-val_frac))\n",
    "    data, val_data = data[:val_idx], data[val_idx:]\n",
    "    \n",
    "    if(train_on_gpu):\n",
    "        net.cuda()\n",
    "    \n",
    "    counter = 0\n",
    "    n_chars = len(net.chars)\n",
    "    for e in range(epochs):\n",
    "        # initialize hidden state\n",
    "        h = net.init_hidden(batch_size)\n",
    "        \n",
    "        for x, y in get_batches(data, batch_size, seq_length):\n",
    "            counter += 1\n",
    "            \n",
    "            # One-hot encode our data and make them Torch tensors\n",
    "            x = one_hot_encode(x, n_chars)\n",
    "            inputs, targets = torch.from_numpy(x), torch.from_numpy(y)\n",
    "            \n",
    "            if(train_on_gpu):\n",
    "                inputs, targets = inputs.cuda(), targets.cuda()\n",
    "\n",
    "            # Creating new variables for the hidden state, otherwise\n",
    "            # we'd backprop through the entire training history\n",
    "            h = tuple([each.data for each in h])\n",
    "\n",
    "            # zero accumulated gradients\n",
    "            net.zero_grad()\n",
    "            \n",
    "            # get the output from the model\n",
    "            output, h = net(inputs, h)\n",
    "            \n",
    "            # calculate the loss and perform backprop\n",
    "            loss = criterion(output, targets.view(batch_size*seq_length).long())\n",
    "            loss.backward()\n",
    "            # `clip_grad_norm` helps prevent the exploding gradient problem in RNNs / LSTMs.\n",
    "            nn.utils.clip_grad_norm_(net.parameters(), clip)\n",
    "            opt.step()\n",
    "            \n",
    "            # loss stats\n",
    "            if counter % print_every == 0:\n",
    "                # Get validation loss\n",
    "                val_h = net.init_hidden(batch_size)\n",
    "                val_losses = []\n",
    "                net.eval()\n",
    "                for x, y in get_batches(val_data, batch_size, seq_length):\n",
    "                    # One-hot encode our data and make them Torch tensors\n",
    "                    x = one_hot_encode(x, n_chars)\n",
    "                    x, y = torch.from_numpy(x), torch.from_numpy(y)\n",
    "                    \n",
    "                    # Creating new variables for the hidden state, otherwise\n",
    "                    # we'd backprop through the entire training history\n",
    "                    val_h = tuple([each.data for each in val_h])\n",
    "                    \n",
    "                    inputs, targets = x, y\n",
    "                    if(train_on_gpu):\n",
    "                        inputs, targets = inputs.cuda(), targets.cuda()\n",
    "\n",
    "                    output, val_h = net(inputs, val_h)\n",
    "                    val_loss = criterion(output, targets.view(batch_size*seq_length).long())\n",
    "                \n",
    "                    val_losses.append(val_loss.item())\n",
    "                \n",
    "                net.train() # reset to train mode after iterationg through validation data\n",
    "                \n",
    "                print(\"Epoch: {}/{}...\".format(e+1, epochs),\n",
    "                      \"Step: {}...\".format(counter),\n",
    "                      \"Loss: {:.4f}...\".format(loss.item()),\n",
    "                      \"Val Loss: {:.4f}\".format(np.mean(val_losses)))"
   ]
  },
  {
   "cell_type": "markdown",
   "metadata": {},
   "source": [
    "## Instantiating the model\n",
    "\n",
    "Now we can actually train the network. First we'll create the network itself, with some given hyperparameters. Then, define the mini-batches sizes, and start training!"
   ]
  },
  {
   "cell_type": "code",
   "execution_count": 22,
   "metadata": {},
   "outputs": [
    {
     "name": "stdout",
     "output_type": "stream",
     "text": [
      "CharRNN(\n",
      "  (lstm): LSTM(83, 512, num_layers=3, batch_first=True, dropout=0.5)\n",
      "  (dropout): Dropout(p=0.5, inplace=False)\n",
      "  (fc): Linear(in_features=512, out_features=83, bias=True)\n",
      ")\n"
     ]
    }
   ],
   "source": [
    "## TODO: set your model hyperparameters\n",
    "# define and print the net\n",
    "n_hidden=512\n",
    "n_layers=3\n",
    "\n",
    "net = CharRNN(chars, n_hidden, n_layers)\n",
    "print(net)"
   ]
  },
  {
   "cell_type": "markdown",
   "metadata": {},
   "source": [
    "### Set your training hyperparameters!"
   ]
  },
  {
   "cell_type": "code",
   "execution_count": 23,
   "metadata": {
    "scrolled": true
   },
   "outputs": [
    {
     "name": "stdout",
     "output_type": "stream",
     "text": [
      "Epoch: 1/20... Step: 10... Loss: 3.2138... Val Loss: 3.1456\n",
      "Epoch: 1/20... Step: 20... Loss: 3.1324... Val Loss: 3.1263\n",
      "Epoch: 1/20... Step: 30... Loss: 3.1367... Val Loss: 3.1209\n",
      "Epoch: 1/20... Step: 40... Loss: 3.1130... Val Loss: 3.1196\n",
      "Epoch: 1/20... Step: 50... Loss: 3.1424... Val Loss: 3.1189\n",
      "Epoch: 1/20... Step: 60... Loss: 3.1182... Val Loss: 3.1182\n",
      "Epoch: 1/20... Step: 70... Loss: 3.1104... Val Loss: 3.1183\n",
      "Epoch: 1/20... Step: 80... Loss: 3.1252... Val Loss: 3.1179\n",
      "Epoch: 1/20... Step: 90... Loss: 3.1330... Val Loss: 3.1169\n",
      "Epoch: 1/20... Step: 100... Loss: 3.1221... Val Loss: 3.1156\n",
      "Epoch: 1/20... Step: 110... Loss: 3.1192... Val Loss: 3.1091\n",
      "Epoch: 1/20... Step: 120... Loss: 3.1011... Val Loss: 3.1122\n",
      "Epoch: 1/20... Step: 130... Loss: 3.0797... Val Loss: 3.0618\n",
      "Epoch: 2/20... Step: 140... Loss: 3.0291... Val Loss: 2.9777\n",
      "Epoch: 2/20... Step: 150... Loss: 2.9104... Val Loss: 2.8801\n",
      "Epoch: 2/20... Step: 160... Loss: 2.8368... Val Loss: 2.8158\n",
      "Epoch: 2/20... Step: 170... Loss: 2.7642... Val Loss: 2.7718\n",
      "Epoch: 2/20... Step: 180... Loss: 2.7351... Val Loss: 2.7289\n",
      "Epoch: 2/20... Step: 190... Loss: 2.6815... Val Loss: 2.6715\n",
      "Epoch: 2/20... Step: 200... Loss: 2.6478... Val Loss: 2.6234\n",
      "Epoch: 2/20... Step: 210... Loss: 2.6039... Val Loss: 2.5763\n",
      "Epoch: 2/20... Step: 220... Loss: 2.5302... Val Loss: 2.5133\n",
      "Epoch: 2/20... Step: 230... Loss: 2.4973... Val Loss: 2.4495\n",
      "Epoch: 2/20... Step: 240... Loss: 2.4239... Val Loss: 2.3817\n",
      "Epoch: 2/20... Step: 250... Loss: 2.3410... Val Loss: 2.3456\n",
      "Epoch: 2/20... Step: 260... Loss: 2.3219... Val Loss: 2.3092\n",
      "Epoch: 2/20... Step: 270... Loss: 2.3112... Val Loss: 2.2806\n",
      "Epoch: 3/20... Step: 280... Loss: 2.3030... Val Loss: 2.2643\n",
      "Epoch: 3/20... Step: 290... Loss: 2.2701... Val Loss: 2.2411\n",
      "Epoch: 3/20... Step: 300... Loss: 2.2450... Val Loss: 2.2179\n",
      "Epoch: 3/20... Step: 310... Loss: 2.2244... Val Loss: 2.1969\n",
      "Epoch: 3/20... Step: 320... Loss: 2.1968... Val Loss: 2.1721\n",
      "Epoch: 3/20... Step: 330... Loss: 2.1586... Val Loss: 2.1504\n",
      "Epoch: 3/20... Step: 340... Loss: 2.1686... Val Loss: 2.1318\n",
      "Epoch: 3/20... Step: 350... Loss: 2.1560... Val Loss: 2.1126\n",
      "Epoch: 3/20... Step: 360... Loss: 2.1024... Val Loss: 2.0957\n",
      "Epoch: 3/20... Step: 370... Loss: 2.1165... Val Loss: 2.0792\n",
      "Epoch: 3/20... Step: 380... Loss: 2.0982... Val Loss: 2.0674\n",
      "Epoch: 3/20... Step: 390... Loss: 2.0706... Val Loss: 2.0474\n",
      "Epoch: 3/20... Step: 400... Loss: 2.0405... Val Loss: 2.0299\n",
      "Epoch: 3/20... Step: 410... Loss: 2.0547... Val Loss: 2.0128\n",
      "Epoch: 4/20... Step: 420... Loss: 2.0242... Val Loss: 1.9980\n",
      "Epoch: 4/20... Step: 430... Loss: 2.0277... Val Loss: 1.9823\n",
      "Epoch: 4/20... Step: 440... Loss: 2.0083... Val Loss: 1.9654\n",
      "Epoch: 4/20... Step: 450... Loss: 1.9498... Val Loss: 1.9496\n",
      "Epoch: 4/20... Step: 460... Loss: 1.9374... Val Loss: 1.9360\n",
      "Epoch: 4/20... Step: 470... Loss: 1.9614... Val Loss: 1.9278\n",
      "Epoch: 4/20... Step: 480... Loss: 1.9391... Val Loss: 1.9072\n",
      "Epoch: 4/20... Step: 490... Loss: 1.9429... Val Loss: 1.8960\n",
      "Epoch: 4/20... Step: 500... Loss: 1.9447... Val Loss: 1.8857\n",
      "Epoch: 4/20... Step: 510... Loss: 1.9155... Val Loss: 1.8726\n",
      "Epoch: 4/20... Step: 520... Loss: 1.9236... Val Loss: 1.8607\n",
      "Epoch: 4/20... Step: 530... Loss: 1.8719... Val Loss: 1.8519\n",
      "Epoch: 4/20... Step: 540... Loss: 1.8526... Val Loss: 1.8370\n",
      "Epoch: 4/20... Step: 550... Loss: 1.8812... Val Loss: 1.8226\n",
      "Epoch: 5/20... Step: 560... Loss: 1.8609... Val Loss: 1.8173\n",
      "Epoch: 5/20... Step: 570... Loss: 1.8409... Val Loss: 1.8024\n",
      "Epoch: 5/20... Step: 580... Loss: 1.8167... Val Loss: 1.7954\n",
      "Epoch: 5/20... Step: 590... Loss: 1.8143... Val Loss: 1.7837\n",
      "Epoch: 5/20... Step: 600... Loss: 1.7961... Val Loss: 1.7723\n",
      "Epoch: 5/20... Step: 610... Loss: 1.7936... Val Loss: 1.7691\n",
      "Epoch: 5/20... Step: 620... Loss: 1.7879... Val Loss: 1.7527\n",
      "Epoch: 5/20... Step: 630... Loss: 1.7988... Val Loss: 1.7441\n",
      "Epoch: 5/20... Step: 640... Loss: 1.7640... Val Loss: 1.7339\n",
      "Epoch: 5/20... Step: 650... Loss: 1.7598... Val Loss: 1.7287\n",
      "Epoch: 5/20... Step: 660... Loss: 1.7230... Val Loss: 1.7208\n",
      "Epoch: 5/20... Step: 670... Loss: 1.7523... Val Loss: 1.7107\n",
      "Epoch: 5/20... Step: 680... Loss: 1.7402... Val Loss: 1.7018\n",
      "Epoch: 5/20... Step: 690... Loss: 1.7225... Val Loss: 1.6972\n",
      "Epoch: 6/20... Step: 700... Loss: 1.7254... Val Loss: 1.6875\n",
      "Epoch: 6/20... Step: 710... Loss: 1.7098... Val Loss: 1.6766\n",
      "Epoch: 6/20... Step: 720... Loss: 1.6954... Val Loss: 1.6707\n",
      "Epoch: 6/20... Step: 730... Loss: 1.7043... Val Loss: 1.6597\n",
      "Epoch: 6/20... Step: 740... Loss: 1.6713... Val Loss: 1.6557\n",
      "Epoch: 6/20... Step: 750... Loss: 1.6575... Val Loss: 1.6498\n",
      "Epoch: 6/20... Step: 760... Loss: 1.6865... Val Loss: 1.6445\n",
      "Epoch: 6/20... Step: 770... Loss: 1.6765... Val Loss: 1.6367\n",
      "Epoch: 6/20... Step: 780... Loss: 1.6508... Val Loss: 1.6339\n",
      "Epoch: 6/20... Step: 790... Loss: 1.6405... Val Loss: 1.6252\n",
      "Epoch: 6/20... Step: 800... Loss: 1.6537... Val Loss: 1.6203\n",
      "Epoch: 6/20... Step: 810... Loss: 1.6390... Val Loss: 1.6149\n",
      "Epoch: 6/20... Step: 820... Loss: 1.6043... Val Loss: 1.6055\n",
      "Epoch: 6/20... Step: 830... Loss: 1.6478... Val Loss: 1.6005\n",
      "Epoch: 7/20... Step: 840... Loss: 1.6020... Val Loss: 1.5931\n",
      "Epoch: 7/20... Step: 850... Loss: 1.6087... Val Loss: 1.5895\n",
      "Epoch: 7/20... Step: 860... Loss: 1.6034... Val Loss: 1.5829\n",
      "Epoch: 7/20... Step: 870... Loss: 1.6059... Val Loss: 1.5783\n",
      "Epoch: 7/20... Step: 880... Loss: 1.6041... Val Loss: 1.5707\n",
      "Epoch: 7/20... Step: 890... Loss: 1.5926... Val Loss: 1.5649\n",
      "Epoch: 7/20... Step: 900... Loss: 1.5754... Val Loss: 1.5625\n",
      "Epoch: 7/20... Step: 910... Loss: 1.5521... Val Loss: 1.5590\n",
      "Epoch: 7/20... Step: 920... Loss: 1.5798... Val Loss: 1.5556\n",
      "Epoch: 7/20... Step: 930... Loss: 1.5617... Val Loss: 1.5467\n",
      "Epoch: 7/20... Step: 940... Loss: 1.5590... Val Loss: 1.5438\n",
      "Epoch: 7/20... Step: 950... Loss: 1.5636... Val Loss: 1.5386\n",
      "Epoch: 7/20... Step: 960... Loss: 1.5630... Val Loss: 1.5350\n",
      "Epoch: 7/20... Step: 970... Loss: 1.5760... Val Loss: 1.5319\n",
      "Epoch: 8/20... Step: 980... Loss: 1.5483... Val Loss: 1.5298\n",
      "Epoch: 8/20... Step: 990... Loss: 1.5432... Val Loss: 1.5233\n",
      "Epoch: 8/20... Step: 1000... Loss: 1.5302... Val Loss: 1.5154\n",
      "Epoch: 8/20... Step: 1010... Loss: 1.5652... Val Loss: 1.5130\n",
      "Epoch: 8/20... Step: 1020... Loss: 1.5428... Val Loss: 1.5098\n",
      "Epoch: 8/20... Step: 1030... Loss: 1.5057... Val Loss: 1.5046\n",
      "Epoch: 8/20... Step: 1040... Loss: 1.5276... Val Loss: 1.5024\n",
      "Epoch: 8/20... Step: 1050... Loss: 1.5108... Val Loss: 1.4980\n",
      "Epoch: 8/20... Step: 1060... Loss: 1.5103... Val Loss: 1.4935\n",
      "Epoch: 8/20... Step: 1070... Loss: 1.5109... Val Loss: 1.4903\n",
      "Epoch: 8/20... Step: 1080... Loss: 1.5039... Val Loss: 1.4881\n",
      "Epoch: 8/20... Step: 1090... Loss: 1.4950... Val Loss: 1.4842\n",
      "Epoch: 8/20... Step: 1100... Loss: 1.4850... Val Loss: 1.4810\n",
      "Epoch: 8/20... Step: 1110... Loss: 1.4935... Val Loss: 1.4776\n",
      "Epoch: 9/20... Step: 1120... Loss: 1.4985... Val Loss: 1.4748\n",
      "Epoch: 9/20... Step: 1130... Loss: 1.4936... Val Loss: 1.4701\n",
      "Epoch: 9/20... Step: 1140... Loss: 1.4973... Val Loss: 1.4654\n",
      "Epoch: 9/20... Step: 1150... Loss: 1.5105... Val Loss: 1.4645\n",
      "Epoch: 9/20... Step: 1160... Loss: 1.4588... Val Loss: 1.4603\n",
      "Epoch: 9/20... Step: 1170... Loss: 1.4735... Val Loss: 1.4574\n",
      "Epoch: 9/20... Step: 1180... Loss: 1.4559... Val Loss: 1.4591\n",
      "Epoch: 9/20... Step: 1190... Loss: 1.4917... Val Loss: 1.4522\n",
      "Epoch: 9/20... Step: 1200... Loss: 1.4360... Val Loss: 1.4478\n",
      "Epoch: 9/20... Step: 1210... Loss: 1.4518... Val Loss: 1.4466\n",
      "Epoch: 9/20... Step: 1220... Loss: 1.4450... Val Loss: 1.4446\n",
      "Epoch: 9/20... Step: 1230... Loss: 1.4286... Val Loss: 1.4423\n",
      "Epoch: 9/20... Step: 1240... Loss: 1.4394... Val Loss: 1.4368\n",
      "Epoch: 9/20... Step: 1250... Loss: 1.4554... Val Loss: 1.4358\n",
      "Epoch: 10/20... Step: 1260... Loss: 1.4477... Val Loss: 1.4375\n",
      "Epoch: 10/20... Step: 1270... Loss: 1.4408... Val Loss: 1.4365\n",
      "Epoch: 10/20... Step: 1280... Loss: 1.4467... Val Loss: 1.4294\n",
      "Epoch: 10/20... Step: 1290... Loss: 1.4422... Val Loss: 1.4279\n",
      "Epoch: 10/20... Step: 1300... Loss: 1.4317... Val Loss: 1.4257\n",
      "Epoch: 10/20... Step: 1310... Loss: 1.4376... Val Loss: 1.4220\n",
      "Epoch: 10/20... Step: 1320... Loss: 1.4006... Val Loss: 1.4227\n",
      "Epoch: 10/20... Step: 1330... Loss: 1.4066... Val Loss: 1.4170\n"
     ]
    },
    {
     "name": "stdout",
     "output_type": "stream",
     "text": [
      "Epoch: 10/20... Step: 1340... Loss: 1.3978... Val Loss: 1.4164\n",
      "Epoch: 10/20... Step: 1350... Loss: 1.3878... Val Loss: 1.4135\n",
      "Epoch: 10/20... Step: 1360... Loss: 1.3903... Val Loss: 1.4121\n",
      "Epoch: 10/20... Step: 1370... Loss: 1.3918... Val Loss: 1.4109\n",
      "Epoch: 10/20... Step: 1380... Loss: 1.4099... Val Loss: 1.4052\n",
      "Epoch: 10/20... Step: 1390... Loss: 1.4293... Val Loss: 1.4058\n",
      "Epoch: 11/20... Step: 1400... Loss: 1.4358... Val Loss: 1.4009\n",
      "Epoch: 11/20... Step: 1410... Loss: 1.4385... Val Loss: 1.4024\n",
      "Epoch: 11/20... Step: 1420... Loss: 1.4247... Val Loss: 1.3965\n",
      "Epoch: 11/20... Step: 1430... Loss: 1.3939... Val Loss: 1.3965\n",
      "Epoch: 11/20... Step: 1440... Loss: 1.4291... Val Loss: 1.3963\n",
      "Epoch: 11/20... Step: 1450... Loss: 1.3529... Val Loss: 1.3935\n",
      "Epoch: 11/20... Step: 1460... Loss: 1.3787... Val Loss: 1.3936\n",
      "Epoch: 11/20... Step: 1470... Loss: 1.3749... Val Loss: 1.3900\n",
      "Epoch: 11/20... Step: 1480... Loss: 1.3883... Val Loss: 1.3881\n",
      "Epoch: 11/20... Step: 1490... Loss: 1.3829... Val Loss: 1.3860\n",
      "Epoch: 11/20... Step: 1500... Loss: 1.3660... Val Loss: 1.3873\n",
      "Epoch: 11/20... Step: 1510... Loss: 1.3568... Val Loss: 1.3864\n",
      "Epoch: 11/20... Step: 1520... Loss: 1.3858... Val Loss: 1.3810\n",
      "Epoch: 12/20... Step: 1530... Loss: 1.4301... Val Loss: 1.3807\n",
      "Epoch: 12/20... Step: 1540... Loss: 1.3879... Val Loss: 1.3784\n",
      "Epoch: 12/20... Step: 1550... Loss: 1.3926... Val Loss: 1.3766\n",
      "Epoch: 12/20... Step: 1560... Loss: 1.3997... Val Loss: 1.3730\n",
      "Epoch: 12/20... Step: 1570... Loss: 1.3507... Val Loss: 1.3753\n",
      "Epoch: 12/20... Step: 1580... Loss: 1.3345... Val Loss: 1.3733\n",
      "Epoch: 12/20... Step: 1590... Loss: 1.3293... Val Loss: 1.3719\n",
      "Epoch: 12/20... Step: 1600... Loss: 1.3516... Val Loss: 1.3741\n",
      "Epoch: 12/20... Step: 1610... Loss: 1.3490... Val Loss: 1.3696\n",
      "Epoch: 12/20... Step: 1620... Loss: 1.3495... Val Loss: 1.3692\n",
      "Epoch: 12/20... Step: 1630... Loss: 1.3708... Val Loss: 1.3679\n",
      "Epoch: 12/20... Step: 1640... Loss: 1.3551... Val Loss: 1.3681\n",
      "Epoch: 12/20... Step: 1650... Loss: 1.3244... Val Loss: 1.3647\n",
      "Epoch: 12/20... Step: 1660... Loss: 1.3778... Val Loss: 1.3623\n",
      "Epoch: 13/20... Step: 1670... Loss: 1.3430... Val Loss: 1.3637\n",
      "Epoch: 13/20... Step: 1680... Loss: 1.3442... Val Loss: 1.3583\n",
      "Epoch: 13/20... Step: 1690... Loss: 1.3314... Val Loss: 1.3590\n",
      "Epoch: 13/20... Step: 1700... Loss: 1.3316... Val Loss: 1.3540\n",
      "Epoch: 13/20... Step: 1710... Loss: 1.3142... Val Loss: 1.3569\n",
      "Epoch: 13/20... Step: 1720... Loss: 1.3301... Val Loss: 1.3574\n",
      "Epoch: 13/20... Step: 1730... Loss: 1.3576... Val Loss: 1.3546\n",
      "Epoch: 13/20... Step: 1740... Loss: 1.3230... Val Loss: 1.3565\n",
      "Epoch: 13/20... Step: 1750... Loss: 1.2920... Val Loss: 1.3542\n",
      "Epoch: 13/20... Step: 1760... Loss: 1.3253... Val Loss: 1.3519\n",
      "Epoch: 13/20... Step: 1770... Loss: 1.3455... Val Loss: 1.3522\n",
      "Epoch: 13/20... Step: 1780... Loss: 1.3187... Val Loss: 1.3496\n",
      "Epoch: 13/20... Step: 1790... Loss: 1.3149... Val Loss: 1.3468\n",
      "Epoch: 13/20... Step: 1800... Loss: 1.3295... Val Loss: 1.3432\n",
      "Epoch: 14/20... Step: 1810... Loss: 1.3352... Val Loss: 1.3468\n",
      "Epoch: 14/20... Step: 1820... Loss: 1.3080... Val Loss: 1.3439\n",
      "Epoch: 14/20... Step: 1830... Loss: 1.3388... Val Loss: 1.3415\n",
      "Epoch: 14/20... Step: 1840... Loss: 1.2826... Val Loss: 1.3407\n",
      "Epoch: 14/20... Step: 1850... Loss: 1.2758... Val Loss: 1.3382\n",
      "Epoch: 14/20... Step: 1860... Loss: 1.3256... Val Loss: 1.3416\n",
      "Epoch: 14/20... Step: 1870... Loss: 1.3255... Val Loss: 1.3381\n",
      "Epoch: 14/20... Step: 1880... Loss: 1.3282... Val Loss: 1.3399\n",
      "Epoch: 14/20... Step: 1890... Loss: 1.3423... Val Loss: 1.3416\n",
      "Epoch: 14/20... Step: 1900... Loss: 1.3186... Val Loss: 1.3355\n",
      "Epoch: 14/20... Step: 1910... Loss: 1.3184... Val Loss: 1.3398\n",
      "Epoch: 14/20... Step: 1920... Loss: 1.3098... Val Loss: 1.3388\n",
      "Epoch: 14/20... Step: 1930... Loss: 1.2794... Val Loss: 1.3356\n",
      "Epoch: 14/20... Step: 1940... Loss: 1.3316... Val Loss: 1.3343\n",
      "Epoch: 15/20... Step: 1950... Loss: 1.2966... Val Loss: 1.3358\n",
      "Epoch: 15/20... Step: 1960... Loss: 1.3077... Val Loss: 1.3330\n",
      "Epoch: 15/20... Step: 1970... Loss: 1.3001... Val Loss: 1.3311\n",
      "Epoch: 15/20... Step: 1980... Loss: 1.2895... Val Loss: 1.3313\n",
      "Epoch: 15/20... Step: 1990... Loss: 1.2935... Val Loss: 1.3301\n",
      "Epoch: 15/20... Step: 2000... Loss: 1.2731... Val Loss: 1.3316\n",
      "Epoch: 15/20... Step: 2010... Loss: 1.2952... Val Loss: 1.3292\n",
      "Epoch: 15/20... Step: 2020... Loss: 1.3223... Val Loss: 1.3277\n",
      "Epoch: 15/20... Step: 2030... Loss: 1.2834... Val Loss: 1.3285\n",
      "Epoch: 15/20... Step: 2040... Loss: 1.2993... Val Loss: 1.3249\n",
      "Epoch: 15/20... Step: 2050... Loss: 1.2826... Val Loss: 1.3261\n",
      "Epoch: 15/20... Step: 2060... Loss: 1.3030... Val Loss: 1.3258\n",
      "Epoch: 15/20... Step: 2070... Loss: 1.3112... Val Loss: 1.3220\n",
      "Epoch: 15/20... Step: 2080... Loss: 1.2917... Val Loss: 1.3204\n",
      "Epoch: 16/20... Step: 2090... Loss: 1.2915... Val Loss: 1.3247\n",
      "Epoch: 16/20... Step: 2100... Loss: 1.2828... Val Loss: 1.3197\n",
      "Epoch: 16/20... Step: 2110... Loss: 1.2694... Val Loss: 1.3222\n",
      "Epoch: 16/20... Step: 2120... Loss: 1.2843... Val Loss: 1.3218\n",
      "Epoch: 16/20... Step: 2130... Loss: 1.2659... Val Loss: 1.3165\n",
      "Epoch: 16/20... Step: 2140... Loss: 1.2640... Val Loss: 1.3207\n",
      "Epoch: 16/20... Step: 2150... Loss: 1.2959... Val Loss: 1.3177\n",
      "Epoch: 16/20... Step: 2160... Loss: 1.2821... Val Loss: 1.3170\n",
      "Epoch: 16/20... Step: 2170... Loss: 1.2752... Val Loss: 1.3200\n",
      "Epoch: 16/20... Step: 2180... Loss: 1.2693... Val Loss: 1.3193\n",
      "Epoch: 16/20... Step: 2190... Loss: 1.2834... Val Loss: 1.3173\n",
      "Epoch: 16/20... Step: 2200... Loss: 1.2746... Val Loss: 1.3159\n",
      "Epoch: 16/20... Step: 2210... Loss: 1.2372... Val Loss: 1.3131\n",
      "Epoch: 16/20... Step: 2220... Loss: 1.2893... Val Loss: 1.3124\n",
      "Epoch: 17/20... Step: 2230... Loss: 1.2550... Val Loss: 1.3141\n",
      "Epoch: 17/20... Step: 2240... Loss: 1.2611... Val Loss: 1.3093\n",
      "Epoch: 17/20... Step: 2250... Loss: 1.2492... Val Loss: 1.3100\n",
      "Epoch: 17/20... Step: 2260... Loss: 1.2539... Val Loss: 1.3102\n",
      "Epoch: 17/20... Step: 2270... Loss: 1.2700... Val Loss: 1.3065\n",
      "Epoch: 17/20... Step: 2280... Loss: 1.2660... Val Loss: 1.3066\n",
      "Epoch: 17/20... Step: 2290... Loss: 1.2667... Val Loss: 1.3076\n",
      "Epoch: 17/20... Step: 2300... Loss: 1.2429... Val Loss: 1.3053\n",
      "Epoch: 17/20... Step: 2310... Loss: 1.2593... Val Loss: 1.3097\n",
      "Epoch: 17/20... Step: 2320... Loss: 1.2512... Val Loss: 1.3103\n",
      "Epoch: 17/20... Step: 2330... Loss: 1.2473... Val Loss: 1.3072\n",
      "Epoch: 17/20... Step: 2340... Loss: 1.2783... Val Loss: 1.3048\n",
      "Epoch: 17/20... Step: 2350... Loss: 1.2796... Val Loss: 1.3028\n",
      "Epoch: 17/20... Step: 2360... Loss: 1.2790... Val Loss: 1.3027\n",
      "Epoch: 18/20... Step: 2370... Loss: 1.2574... Val Loss: 1.3013\n",
      "Epoch: 18/20... Step: 2380... Loss: 1.2539... Val Loss: 1.3006\n",
      "Epoch: 18/20... Step: 2390... Loss: 1.2648... Val Loss: 1.3022\n",
      "Epoch: 18/20... Step: 2400... Loss: 1.2738... Val Loss: 1.3024\n",
      "Epoch: 18/20... Step: 2410... Loss: 1.2713... Val Loss: 1.2995\n",
      "Epoch: 18/20... Step: 2420... Loss: 1.2513... Val Loss: 1.3009\n",
      "Epoch: 18/20... Step: 2430... Loss: 1.2679... Val Loss: 1.3027\n",
      "Epoch: 18/20... Step: 2440... Loss: 1.2399... Val Loss: 1.3016\n",
      "Epoch: 18/20... Step: 2450... Loss: 1.2410... Val Loss: 1.3040\n",
      "Epoch: 18/20... Step: 2460... Loss: 1.2637... Val Loss: 1.3029\n",
      "Epoch: 18/20... Step: 2470... Loss: 1.2483... Val Loss: 1.2982\n",
      "Epoch: 18/20... Step: 2480... Loss: 1.2462... Val Loss: 1.2982\n",
      "Epoch: 18/20... Step: 2490... Loss: 1.2470... Val Loss: 1.3017\n",
      "Epoch: 18/20... Step: 2500... Loss: 1.2399... Val Loss: 1.2966\n",
      "Epoch: 19/20... Step: 2510... Loss: 1.2507... Val Loss: 1.2937\n",
      "Epoch: 19/20... Step: 2520... Loss: 1.2591... Val Loss: 1.2942\n",
      "Epoch: 19/20... Step: 2530... Loss: 1.2661... Val Loss: 1.2921\n",
      "Epoch: 19/20... Step: 2540... Loss: 1.2742... Val Loss: 1.2956\n",
      "Epoch: 19/20... Step: 2550... Loss: 1.2305... Val Loss: 1.2928\n",
      "Epoch: 19/20... Step: 2560... Loss: 1.2461... Val Loss: 1.2931\n",
      "Epoch: 19/20... Step: 2570... Loss: 1.2278... Val Loss: 1.2919\n",
      "Epoch: 19/20... Step: 2580... Loss: 1.2695... Val Loss: 1.2920\n",
      "Epoch: 19/20... Step: 2590... Loss: 1.2395... Val Loss: 1.2943\n",
      "Epoch: 19/20... Step: 2600... Loss: 1.2398... Val Loss: 1.2944\n",
      "Epoch: 19/20... Step: 2610... Loss: 1.2461... Val Loss: 1.2915\n",
      "Epoch: 19/20... Step: 2620... Loss: 1.2151... Val Loss: 1.2895\n",
      "Epoch: 19/20... Step: 2630... Loss: 1.2257... Val Loss: 1.2892\n"
     ]
    },
    {
     "name": "stdout",
     "output_type": "stream",
     "text": [
      "Epoch: 19/20... Step: 2640... Loss: 1.2371... Val Loss: 1.2917\n",
      "Epoch: 20/20... Step: 2650... Loss: 1.2414... Val Loss: 1.2891\n",
      "Epoch: 20/20... Step: 2660... Loss: 1.2420... Val Loss: 1.2899\n",
      "Epoch: 20/20... Step: 2670... Loss: 1.2448... Val Loss: 1.2884\n",
      "Epoch: 20/20... Step: 2680... Loss: 1.2458... Val Loss: 1.2878\n",
      "Epoch: 20/20... Step: 2690... Loss: 1.2314... Val Loss: 1.2881\n",
      "Epoch: 20/20... Step: 2700... Loss: 1.2361... Val Loss: 1.2858\n",
      "Epoch: 20/20... Step: 2710... Loss: 1.2214... Val Loss: 1.2893\n",
      "Epoch: 20/20... Step: 2720... Loss: 1.2165... Val Loss: 1.2869\n",
      "Epoch: 20/20... Step: 2730... Loss: 1.2125... Val Loss: 1.2915\n",
      "Epoch: 20/20... Step: 2740... Loss: 1.2127... Val Loss: 1.2885\n",
      "Epoch: 20/20... Step: 2750... Loss: 1.2132... Val Loss: 1.2862\n",
      "Epoch: 20/20... Step: 2760... Loss: 1.2125... Val Loss: 1.2869\n",
      "Epoch: 20/20... Step: 2770... Loss: 1.2376... Val Loss: 1.2857\n",
      "Epoch: 20/20... Step: 2780... Loss: 1.2686... Val Loss: 1.2847\n"
     ]
    }
   ],
   "source": [
    "batch_size = 128\n",
    "seq_length = 100\n",
    "n_epochs = 20 # start small if you are just testing initial behavior\n",
    "\n",
    "# train the model\n",
    "train(net, encoded, epochs=n_epochs, batch_size=batch_size, seq_length=seq_length, lr=0.001, print_every=10)"
   ]
  },
  {
   "cell_type": "markdown",
   "metadata": {},
   "source": [
    "## Getting the best model\n",
    "\n",
    "To set your hyperparameters to get the best performance, you'll want to watch the training and validation losses. If your training loss is much lower than the validation loss, you're overfitting. Increase regularization (more dropout) or use a smaller network. If the training and validation losses are close, you're underfitting so you can increase the size of the network."
   ]
  },
  {
   "cell_type": "markdown",
   "metadata": {},
   "source": [
    "## Hyperparameters\n",
    "\n",
    "Here are the hyperparameters for the network.\n",
    "\n",
    "In defining the model:\n",
    "* `n_hidden` - The number of units in the hidden layers.\n",
    "* `n_layers` - Number of hidden LSTM layers to use.\n",
    "\n",
    "We assume that dropout probability and learning rate will be kept at the default, in this example.\n",
    "\n",
    "And in training:\n",
    "* `batch_size` - Number of sequences running through the network in one pass.\n",
    "* `seq_length` - Number of characters in the sequence the network is trained on. Larger is better typically, the network will learn more long range dependencies. But it takes longer to train. 100 is typically a good number here.\n",
    "* `lr` - Learning rate for training\n",
    "\n",
    "Here's some good advice from Andrej Karpathy on training the network. I'm going to copy it in here for your benefit, but also link to [where it originally came from](https://github.com/karpathy/char-rnn#tips-and-tricks).\n",
    "\n",
    "> ## Tips and Tricks\n",
    "\n",
    ">### Monitoring Validation Loss vs. Training Loss\n",
    ">If you're somewhat new to Machine Learning or Neural Networks it can take a bit of expertise to get good models. The most important quantity to keep track of is the difference between your training loss (printed during training) and the validation loss (printed once in a while when the RNN is run on the validation data (by default every 1000 iterations)). In particular:\n",
    "\n",
    "> - If your training loss is much lower than validation loss then this means the network might be **overfitting**. Solutions to this are to decrease your network size, or to increase dropout. For example you could try dropout of 0.5 and so on.\n",
    "> - If your training/validation loss are about equal then your model is **underfitting**. Increase the size of your model (either number of layers or the raw number of neurons per layer)\n",
    "\n",
    "> ### Approximate number of parameters\n",
    "\n",
    "> The two most important parameters that control the model are `n_hidden` and `n_layers`. I would advise that you always use `n_layers` of either 2/3. The `n_hidden` can be adjusted based on how much data you have. The two important quantities to keep track of here are:\n",
    "\n",
    "> - The number of parameters in your model. This is printed when you start training.\n",
    "> - The size of your dataset. 1MB file is approximately 1 million characters.\n",
    "\n",
    ">These two should be about the same order of magnitude. It's a little tricky to tell. Here are some examples:\n",
    "\n",
    "> - I have a 100MB dataset and I'm using the default parameter settings (which currently print 150K parameters). My data size is significantly larger (100 mil >> 0.15 mil), so I expect to heavily underfit. I am thinking I can comfortably afford to make `n_hidden` larger.\n",
    "> - I have a 10MB dataset and running a 10 million parameter model. I'm slightly nervous and I'm carefully monitoring my validation loss. If it's larger than my training loss then I may want to try to increase dropout a bit and see if that helps the validation loss.\n",
    "\n",
    "> ### Best models strategy\n",
    "\n",
    ">The winning strategy to obtaining very good models (if you have the compute time) is to always err on making the network larger (as large as you're willing to wait for it to compute) and then try different dropout values (between 0,1). Whatever model has the best validation performance (the loss, written in the checkpoint filename, low is good) is the one you should use in the end.\n",
    "\n",
    ">It is very common in deep learning to run many different models with many different hyperparameter settings, and in the end take whatever checkpoint gave the best validation performance.\n",
    "\n",
    ">By the way, the size of your training and validation splits are also parameters. Make sure you have a decent amount of data in your validation set or otherwise the validation performance will be noisy and not very informative."
   ]
  },
  {
   "cell_type": "markdown",
   "metadata": {},
   "source": [
    "## Checkpoint\n",
    "\n",
    "After training, we'll save the model so we can load it again later if we need too. Here I'm saving the parameters needed to create the same architecture, the hidden layer hyperparameters and the text characters."
   ]
  },
  {
   "cell_type": "code",
   "execution_count": 24,
   "metadata": {},
   "outputs": [],
   "source": [
    "# change the name, for saving multiple files\n",
    "model_name = 'rnn_x_epoch.net'\n",
    "\n",
    "checkpoint = {'n_hidden': net.n_hidden,\n",
    "              'n_layers': net.n_layers,\n",
    "              'state_dict': net.state_dict(),\n",
    "              'tokens': net.chars}\n",
    "\n",
    "with open(model_name, 'wb') as f:\n",
    "    torch.save(checkpoint, f)"
   ]
  },
  {
   "cell_type": "markdown",
   "metadata": {},
   "source": [
    "---\n",
    "## Making Predictions\n",
    "\n",
    "Now that the model is trained, we'll want to sample from it and make predictions about next characters! To sample, we pass in a character and have the network predict the next character. Then we take that character, pass it back in, and get another predicted character. Just keep doing this and you'll generate a bunch of text!\n",
    "\n",
    "### A note on the `predict`  function\n",
    "\n",
    "The output of our RNN is from a fully-connected layer and it outputs a **distribution of next-character scores**.\n",
    "\n",
    "> To actually get the next character, we apply a softmax function, which gives us a *probability* distribution that we can then sample to predict the next character.\n",
    "\n",
    "### Top K sampling\n",
    "\n",
    "Our predictions come from a categorical probability distribution over all the possible characters. We can make the sample text and make it more reasonable to handle (with less variables) by only considering some $K$ most probable characters. This will prevent the network from giving us completely absurd characters while allowing it to introduce some noise and randomness into the sampled text. Read more about [topk, here](https://pytorch.org/docs/stable/torch.html#torch.topk).\n"
   ]
  },
  {
   "cell_type": "code",
   "execution_count": 25,
   "metadata": {},
   "outputs": [],
   "source": [
    "def predict(net, char, h=None, top_k=None):\n",
    "        ''' Given a character, predict the next character.\n",
    "            Returns the predicted character and the hidden state.\n",
    "        '''\n",
    "        \n",
    "        # tensor inputs\n",
    "        x = np.array([[net.char2int[char]]])\n",
    "        x = one_hot_encode(x, len(net.chars))\n",
    "        inputs = torch.from_numpy(x)\n",
    "        \n",
    "        if(train_on_gpu):\n",
    "            inputs = inputs.cuda()\n",
    "        \n",
    "        # detach hidden state from history\n",
    "        h = tuple([each.data for each in h])\n",
    "        # get the output of the model\n",
    "        out, h = net(inputs, h)\n",
    "\n",
    "        # get the character probabilities\n",
    "        p = F.softmax(out, dim=1).data\n",
    "        if(train_on_gpu):\n",
    "            p = p.cpu() # move to cpu\n",
    "        \n",
    "        # get top characters\n",
    "        if top_k is None:\n",
    "            top_ch = np.arange(len(net.chars))\n",
    "        else:\n",
    "            p, top_ch = p.topk(top_k)\n",
    "            top_ch = top_ch.numpy().squeeze()\n",
    "        \n",
    "        # select the likely next character with some element of randomness\n",
    "        p = p.numpy().squeeze()\n",
    "        char = np.random.choice(top_ch, p=p/p.sum())\n",
    "        \n",
    "        # return the encoded value of the predicted char and the hidden state\n",
    "        return net.int2char[char], h"
   ]
  },
  {
   "cell_type": "markdown",
   "metadata": {},
   "source": [
    "### Priming and generating text \n",
    "\n",
    "Typically you'll want to prime the network so you can build up a hidden state. Otherwise the network will start out generating characters at random. In general the first bunch of characters will be a little rough since it hasn't built up a long history of characters to predict from."
   ]
  },
  {
   "cell_type": "code",
   "execution_count": 26,
   "metadata": {},
   "outputs": [],
   "source": [
    "def sample(net, size, prime='The', top_k=None):\n",
    "        \n",
    "    if(train_on_gpu):\n",
    "        net.cuda()\n",
    "    else:\n",
    "        net.cpu()\n",
    "    \n",
    "    net.eval() # eval mode\n",
    "    \n",
    "    # First off, run through the prime characters\n",
    "    chars = [ch for ch in prime]\n",
    "    h = net.init_hidden(1)\n",
    "    for ch in prime:\n",
    "        char, h = predict(net, ch, h, top_k=top_k)\n",
    "\n",
    "    chars.append(char)\n",
    "    \n",
    "    # Now pass in the previous character and get a new one\n",
    "    for ii in range(size):\n",
    "        char, h = predict(net, chars[-1], h, top_k=top_k)\n",
    "        chars.append(char)\n",
    "\n",
    "    return ''.join(chars)"
   ]
  },
  {
   "cell_type": "code",
   "execution_count": 27,
   "metadata": {},
   "outputs": [
    {
     "name": "stdout",
     "output_type": "stream",
     "text": [
      "Anna come about him, a smart conscience of the most table and was not such a stairs and things, without heart, but\n",
      "the carriage of his father's face of the doctors and the country still had to be\n",
      "asked a side and tried to be cold, as thinking of a crimsor and a carps, but her for him in their change of sour was so much better when the mares had\n",
      "no precisely the moments though it seemed to him with\n",
      "a\n",
      "condition with the servants. And she was not the consequence of the matter at the disagreeable companion to his brother, who were struggling. All he had browed it to her, was to say that is when he was not been an impression that they had been seen into the probably, he calmed the prival and\n",
      "pash,. The carriages at that disturbed officers, and at the station in the death, and always threw, both had been since her father was still as it was a single difficulty, but this sight of that ten, and that the case of\n",
      "the country, was so aring to the same to strange a carriage, bare a cornished sort\n",
      "of pa\n"
     ]
    }
   ],
   "source": [
    "print(sample(net, 1000, prime='Anna', top_k=5))"
   ]
  },
  {
   "cell_type": "markdown",
   "metadata": {},
   "source": [
    "## Loading a checkpoint"
   ]
  },
  {
   "cell_type": "code",
   "execution_count": 28,
   "metadata": {},
   "outputs": [
    {
     "data": {
      "text/plain": [
       "<All keys matched successfully>"
      ]
     },
     "execution_count": 28,
     "metadata": {},
     "output_type": "execute_result"
    }
   ],
   "source": [
    "# Here we have loaded in a model that trained over 20 epochs `rnn_20_epoch.net`\n",
    "with open('rnn_x_epoch.net', 'rb') as f:\n",
    "    checkpoint = torch.load(f)\n",
    "    \n",
    "loaded = CharRNN(checkpoint['tokens'], n_hidden=checkpoint['n_hidden'], n_layers=checkpoint['n_layers'])\n",
    "loaded.load_state_dict(checkpoint['state_dict'])"
   ]
  },
  {
   "cell_type": "code",
   "execution_count": 29,
   "metadata": {},
   "outputs": [
    {
     "name": "stdout",
     "output_type": "stream",
     "text": [
      "And Levin said to himself, was anging his\n",
      "strength. \"I can't be discarented to the crowd too, and she's so arrented to spoke about any often talkens and at the\n",
      "portrait and the confersable one of the peasants. I am time to be telling me alone in the second sees,\" answered Levin; \"I cannot be\n",
      "drawing that, and so\n",
      "much she has been settled that you're all at once, and the\n",
      "powers of the same is\n",
      "to\n",
      "say you seemed, both. Then you are not so terrible. The man which had a steps at all the same man we are so thinking of them, the carriages there are the points wondering in her face.\"\n",
      "\n",
      "\"Yes, and I\n",
      "wanted all, what do you know you so much to be\n",
      "mistaken for, and she can did not think of the prince.\n",
      "\n",
      "\"Then I was several table as he went on out, they've been saying. I have been tried to go with me to be more at the conversation, but he's not a person.\" To be all at the master. And however weather\n",
      "said a long-ground. How sense of his face she saw\n",
      "angrily and, the cause of time, taking his head from horses and satisfaction from them, he found that the same time there was not only to deceive the peasant that, his hands and\n",
      "a consequent society of the marshals in the moments of that tears, with a stall in her husband that, and they was a country. But she saw that he did\n",
      "not know all had to be saying.\n",
      "\n",
      "They were silent, well from the power that to him when he was completely standing. But the chance of the sick-raise came in our people and the\n",
      "most touching, time,\n",
      "his shoulder, whom he had anrailed. She\n",
      "saw in the princess, who had been deciding. He was saying that there was all alone to hers. The profits he could not have bought them, he could not be thinking of the master, and at once all that his brother, had been took in two man,\n",
      "he was standing by the friend of a pretty time, and as though he sat on the conditions of the country there instantly the stirring husband which had been settled too,\n",
      "and there was an extental finished. But he detained his face, and, an and at emprasition of his word t\n"
     ]
    }
   ],
   "source": [
    "# Sample using a loaded model\n",
    "print(sample(loaded, 2000, top_k=5, prime=\"And Levin said\"))"
   ]
  },
  {
   "cell_type": "code",
   "execution_count": null,
   "metadata": {
    "collapsed": true
   },
   "outputs": [],
   "source": []
  }
 ],
 "metadata": {
  "kernelspec": {
   "display_name": "Python 3",
   "language": "python",
   "name": "python3"
  },
  "language_info": {
   "codemirror_mode": {
    "name": "ipython",
    "version": 3
   },
   "file_extension": ".py",
   "mimetype": "text/x-python",
   "name": "python",
   "nbconvert_exporter": "python",
   "pygments_lexer": "ipython3",
   "version": "3.7.3"
  }
 },
 "nbformat": 4,
 "nbformat_minor": 2
}
