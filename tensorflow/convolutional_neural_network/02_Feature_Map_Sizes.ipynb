{
 "cells": [
  {
   "cell_type": "markdown",
   "metadata": {},
   "source": [
    "![](./images/feature_map_size_01.png)\n",
    "\n",
    "Q1. What are the width, height and depth for padding = 'same', stride = 1?\n",
    "Enter your answers in the format \"width, height, depth\"\n",
    "\n",
    "\n",
    "Q2.What are the width, height and depth for padding = 'valid', stride = 1?\n",
    "Enter your answers in the format \"width, height, depth\"\n",
    "\n",
    "\n",
    "Q3.What are the width, height and depth for padding = 'valid', stride = 2?\n",
    "Enter your answers in the format \"width, height, depth\"\n",
    "\n",
    "\n",
    "If using the so called same padding in a stride of 1,the output width and height are the same as the input. We just add zeros to the input image to make the sizes match.\n",
    "![](./images/feature_map_size_02_same_padding.png)\n",
    "\n",
    "If using the so called valid padding in a stride of 1,then there is no padding at all.So if you want to fit your little filter on the input image without doing and any padding,you're going to have to remove one row and one column of the image on each side. So you left with 26 features in each of the maps at the output.\n",
    "![](./images/feature_map_size_03_valid_padding.png)\n",
    "\n",
    "If in addition you use a stride of two, then you only get half as many outputs. So 13 in width and 13 in height.\n",
    "![](./images/feature_map_size_04_valid_padding.png)\n",
    "\n",
    "In all cases, the output `depth` isn't changed.\n",
    "\n",
    "\n",
    "\n",
    "\n",
    "\n",
    "\n",
    "\n",
    "\n"
   ]
  },
  {
   "cell_type": "code",
   "execution_count": null,
   "metadata": {},
   "outputs": [],
   "source": []
  },
  {
   "cell_type": "code",
   "execution_count": null,
   "metadata": {},
   "outputs": [],
   "source": []
  }
 ],
 "metadata": {
  "kernelspec": {
   "display_name": "Python 3",
   "language": "python",
   "name": "python3"
  },
  "language_info": {
   "codemirror_mode": {
    "name": "ipython",
    "version": 3
   },
   "file_extension": ".py",
   "mimetype": "text/x-python",
   "name": "python",
   "nbconvert_exporter": "python",
   "pygments_lexer": "ipython3",
   "version": "3.7.3"
  }
 },
 "nbformat": 4,
 "nbformat_minor": 2
}
